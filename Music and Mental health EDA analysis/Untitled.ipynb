{
 "cells": [
  {
   "cell_type": "markdown",
   "id": "a67975cf",
   "metadata": {},
   "source": [
    "#### DSC530-302 Data Exploration and Analysis\n",
    "##### Author: Chitramoy Mukherjee\n",
    "##### Date: 05/29/2023\n",
    "##### Title: \"DSC530-302 Week-11 Final Project on mental-health-at-workplace\""
   ]
  },
  {
   "cell_type": "code",
   "execution_count": null,
   "id": "263fb672",
   "metadata": {},
   "outputs": [],
   "source": [
    "import warnings \n",
    "warnings.filterwarnings('ignore')\n",
    "\n",
    "#Required python basic libraries \n",
    "\n",
    "import numpy as np\n",
    "import pandas as pd\n",
    "\n",
    "#Required python visualization libraries\n",
    "\n",
    "import missingno as msno\n",
    "import matplotlib\n",
    "import matplotlib.pyplot as plt\n",
    "import seaborn as sns\n",
    "import plotly.express as px\n",
    "import plotly.graph_objects as go\n",
    "%matplotlib inline\n",
    "\n",
    "df = pd.read_csv(\"C:\\\\Users\\\\14024\\\\Desktop\\\\MS-DSC\\\\DSC-530\\\\Final-Project\\\\survey_2014.csv\")\n",
    "\n",
    "df.head()"
   ]
  }
 ],
 "metadata": {
  "kernelspec": {
   "display_name": "Python 3 (ipykernel)",
   "language": "python",
   "name": "python3"
  },
  "language_info": {
   "codemirror_mode": {
    "name": "ipython",
    "version": 3
   },
   "file_extension": ".py",
   "mimetype": "text/x-python",
   "name": "python",
   "nbconvert_exporter": "python",
   "pygments_lexer": "ipython3",
   "version": "3.9.13"
  }
 },
 "nbformat": 4,
 "nbformat_minor": 5
}
